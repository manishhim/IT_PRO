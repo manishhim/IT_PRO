{
  "nbformat": 4,
  "nbformat_minor": 0,
  "metadata": {
    "colab": {
      "provenance": [],
      "authorship_tag": "ABX9TyMoz/a6q5cj+Js0g07DkXYl",
      "include_colab_link": true
    },
    "kernelspec": {
      "name": "python3",
      "display_name": "Python 3"
    },
    "language_info": {
      "name": "python"
    }
  },
  "cells": [
    {
      "cell_type": "markdown",
      "metadata": {
        "id": "view-in-github",
        "colab_type": "text"
      },
      "source": [
        "<a href=\"https://colab.research.google.com/github/manishhim/IT_PRO/blob/main/Untitled0.ipynb\" target=\"_parent\"><img src=\"https://colab.research.google.com/assets/colab-badge.svg\" alt=\"Open In Colab\"/></a>"
      ]
    },
    {
      "cell_type": "code",
      "execution_count": null,
      "metadata": {
        "colab": {
          "base_uri": "https://localhost:8080/"
        },
        "id": "TYawXZhXNfAK",
        "outputId": "3b677dc7-aecb-4bbd-bd82-1dbd4c277bd2"
      },
      "outputs": [
        {
          "output_type": "stream",
          "name": "stdout",
          "text": [
            "   SNO    NAME SECTION  SCORE\n",
            "0    1  MANISH       A     90\n",
            "1    2   HARSH       B     99\n",
            "2    3   PAWAN       C    100\n",
            "3    4   RAMAN       D     99\n",
            "4    5   LALIT       E     87\n",
            "0    MANISH\n",
            "1     HARSH\n",
            "2     PAWAN\n",
            "3     RAMAN\n",
            "Name: NAME, dtype: object\n"
          ]
        }
      ],
      "source": [
        "import pandas as pd\n",
        "import io\n",
        "\n",
        "df = pd.read_csv(io.BytesIO(uploaded['MY_CSV.csv']))\n",
        "print(df)\n",
        "print(df.loc[0:3, 'NAME'])"
      ]
    },
    {
      "cell_type": "markdown",
      "source": [],
      "metadata": {
        "id": "LoVw7nw0Rog8"
      }
    },
    {
      "cell_type": "markdown",
      "source": [
        "read csv files on google colab"
      ],
      "metadata": {
        "id": "ITOZZvsBReMG"
      }
    },
    {
      "cell_type": "code",
      "source": [
        "import pandas as pd\n",
        "import io\n",
        "\n",
        "df = pd.read_csv(io.BytesIO(uploaded['MY_CSV.csv']))\n",
        "print(df)\n",
        "print(df.loc[0:3, 'NAME'])"
      ],
      "metadata": {
        "id": "CLYqhQrhRmCN"
      },
      "execution_count": null,
      "outputs": []
    }
  ]
}